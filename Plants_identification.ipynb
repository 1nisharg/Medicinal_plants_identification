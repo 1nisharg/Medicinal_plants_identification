{
  "nbformat": 4,
  "nbformat_minor": 0,
  "metadata": {
    "colab": {
      "provenance": [],
      "gpuType": "T4"
    },
    "kernelspec": {
      "name": "python3",
      "display_name": "Python 3"
    },
    "language_info": {
      "name": "python"
    },
    "accelerator": "GPU"
  },
  "cells": [
    {
      "cell_type": "code",
      "execution_count": null,
      "metadata": {
        "id": "3EJrsKsUvEdr"
      },
      "outputs": [],
      "source": [
        "from google.colab import drive\n",
        "import zipfile\n",
        "import os"
      ]
    },
    {
      "cell_type": "code",
      "source": [
        "# Import the library to download files\n",
        "import gdown\n",
        "\n",
        "# Define the Google Drive file ID from the shared link\n",
        "file_id = '1TqSbFrVml7T1oHTJ6JSPzc-LV8Un5Zc1'\n",
        "\n",
        "# Define the destination directory where you want to save the dataset\n",
        "output_dir = '/content/'\n",
        "\n",
        "# Construct the download URL\n",
        "url = f'https://drive.google.com/uc?id={file_id}'\n",
        "\n",
        "# Download the file to the specified directory\n",
        "gdown.download(url, output_dir + 'dataset.zip', quiet=False)\n",
        "\n",
        "# Unzip the downloaded dataset\n",
        "import zipfile\n",
        "with zipfile.ZipFile(output_dir + 'dataset.zip', 'r') as zip_ref:\n",
        "     zip_ref.extractall(output_dir)\n",
        "\n",
        "# List the files in the directory to verify the extraction\n",
        "import os\n",
        "os.listdir(output_dir)"
      ],
      "metadata": {
        "id": "dUYxvbLcMmeB"
      },
      "execution_count": null,
      "outputs": []
    },
    {
      "cell_type": "code",
      "source": [
        "import tensorflow as tf\n",
        "from tensorflow.keras.preprocessing.image import ImageDataGenerator\n",
        "from tensorflow.keras.callbacks import EarlyStopping, LearningRateScheduler, ModelCheckpoint\n",
        "import matplotlib.pyplot as plt\n",
        "\n",
        "# Define data paths and image size\n",
        "data_path = '/content'\n",
        "img_size = (256, 256)\n"
      ],
      "metadata": {
        "id": "DSEWYsHYvNyl"
      },
      "execution_count": null,
      "outputs": []
    },
    {
      "cell_type": "code",
      "source": [
        "validation_split = 0.1\n",
        "\n",
        "# Data Augmentation\n",
        "datagen = ImageDataGenerator(\n",
        "    rescale=1.0/255.0,\n",
        "    validation_split=validation_split,\n",
        "    rotation_range=40,\n",
        "    width_shift_range=0.2,\n",
        "    height_shift_range=0.2,\n",
        "    shear_range=0.2,\n",
        "    zoom_range=0.2,\n",
        "    horizontal_flip=True,\n",
        "    vertical_flip=True,\n",
        ")\n",
        "\n",
        "# Define class names\n",
        "class_names = ['Aloevera', 'Amla', 'Amruta_Balli', 'Arali', 'Ashoka', 'Ashwagandha', 'Avacado', 'Bamboo', 'Basale',\n",
        "              'Betel', 'Betel_Nut', 'Brahmi', 'Castor', 'Curry_Leaf',\n",
        "              'Doddapatre', 'Ekka', 'Ganike', 'Gauva', 'Geranium', 'Henna', 'Hibiscus', 'Honge', 'Insulin', 'Jasmine', 'Lemon',\n",
        "              'Lemon_grass', 'Mango', 'Mint', 'Nagadali', 'Neem', 'Nithyapushpa', 'Nooni', 'Pappaya', 'Pepper',\n",
        "              'Pomegranate', 'Raktachandini', 'Rose', 'Sapota', 'Tulasi', 'Wood_sorel']\n"
      ],
      "metadata": {
        "id": "6b42tFcQvPFM"
      },
      "execution_count": null,
      "outputs": []
    },
    {
      "cell_type": "code",
      "source": [
        "# Data Generators for Training and Validation\n",
        "\n",
        "\n",
        "train_gen = datagen.flow_from_directory(\n",
        "    data_path,\n",
        "    target_size=img_size,\n",
        "    batch_size=32,\n",
        "    class_mode='categorical',\n",
        "    subset='training',\n",
        "    seed=42,\n",
        "    classes=class_names\n",
        ")\n",
        "\n",
        "validation_gen = datagen.flow_from_directory(\n",
        "    data_path,\n",
        "    target_size=img_size,\n",
        "    batch_size=32,\n",
        "    class_mode='categorical',\n",
        "    subset='validation',\n",
        "    seed=42,\n",
        "    classes=class_names\n",
        ")\n"
      ],
      "metadata": {
        "id": "zWC1qFJSvQjY",
        "colab": {
          "base_uri": "https://localhost:8080/"
        },
        "outputId": "1cb2d3ec-0e4c-41c8-dd7e-c28085deabf3"
      },
      "execution_count": null,
      "outputs": [
        {
          "output_type": "stream",
          "name": "stdout",
          "text": [
            "Found 4056 images belonging to 40 classes.\n",
            "Found 429 images belonging to 40 classes.\n"
          ]
        }
      ]
    },
    {
      "cell_type": "code",
      "source": [
        "# Define the model\n",
        "model = tf.keras.Sequential([\n",
        "    # Convolutional layers\n",
        "    tf.keras.layers.Conv2D(32, (3, 3), activation='relu'),\n",
        "    tf.keras.layers.BatchNormalization(),\n",
        "    tf.keras.layers.MaxPooling2D(2, 2),\n",
        "\n",
        "      tf.keras.layers.Conv2D(64, (3, 3), activation='relu', input_shape=(256, 256, 3)),\n",
        "    tf.keras.layers.BatchNormalization(),\n",
        "    tf.keras.layers.MaxPooling2D(2, 2),\n",
        "\n",
        "    tf.keras.layers.Conv2D(128, (3, 3), activation='relu'),\n",
        "    tf.keras.layers.BatchNormalization(),\n",
        "    tf.keras.layers.MaxPooling2D(2, 2),\n",
        "\n",
        "    tf.keras.layers.Conv2D(256, (3, 3), activation='relu'),\n",
        "    tf.keras.layers.BatchNormalization(),\n",
        "    tf.keras.layers.MaxPooling2D(2, 2),\n",
        "\n",
        "    # Fully connected layers\n",
        "    tf.keras.layers.Flatten(),\n",
        "    tf.keras.layers.Dense(512, activation='relu', kernel_regularizer=tf.keras.regularizers.l2(0.01)),\n",
        "    tf.keras.layers.BatchNormalization(),\n",
        "    tf.keras.layers.Dropout(0.5),\n",
        "\n",
        "    tf.keras.layers.Dense(len(class_names), activation='softmax')\n",
        "])\n"
      ],
      "metadata": {
        "id": "VGHy8w02vSpt"
      },
      "execution_count": null,
      "outputs": []
    },
    {
      "cell_type": "code",
      "source": [
        "# Compile the model\n",
        "opt = tf.keras.optimizers.Adam(learning_rate=0.0001)\n",
        "model.compile(optimizer=opt, loss='categorical_crossentropy', metrics=['accuracy'])\n"
      ],
      "metadata": {
        "id": "hlAqrkewvUQu"
      },
      "execution_count": null,
      "outputs": []
    },
    {
      "cell_type": "code",
      "source": [
        "# Learning Rate Scheduling\n",
        "#def lr_schedule(epoch):\n",
        " #   if epoch < 30:\n",
        "  #      return 0.0001\n",
        "   # elif epoch < 60:\n",
        "    #    return 0.00001\n",
        "    #else:\n",
        "     #   return 0.000001\n",
        "\n",
        "# lr_scheduler = LearningRateScheduler(lr_schedule)\n"
      ],
      "metadata": {
        "id": "QDmRnKOnvglI"
      },
      "execution_count": null,
      "outputs": []
    },
    {
      "cell_type": "code",
      "source": [
        "# Early Stopping\n",
        "early_stopping = EarlyStopping(monitor='val_loss', patience=10, restore_best_weights=True)\n"
      ],
      "metadata": {
        "id": "PS4QmTxwvhF7"
      },
      "execution_count": null,
      "outputs": []
    },
    {
      "cell_type": "code",
      "source": [
        "# Model Checkpoint\n",
        "model_checkpoint = ModelCheckpoint('best_model.h5', save_best_only=True)\n"
      ],
      "metadata": {
        "id": "amJcvA16virq"
      },
      "execution_count": null,
      "outputs": []
    },
    {
      "cell_type": "code",
      "source": [
        "\n",
        "from tensorflow.keras.callbacks import ReduceLROnPlateau\n",
        "\n",
        "# Define a callback to reduce the learning rate when validation loss plateaus\n",
        "reduce_lr = ReduceLROnPlateau(\n",
        "    monitor='val_loss',   # Monitor the validation loss\n",
        "    factor=0.2,           # Factor by which the learning rate will be reduced (new_lr = lr * factor)\n",
        "    patience=5,           # Number of epochs with no improvement after which learning rate will be reduced\n",
        "    min_lr=1e-6,          # Minimum learning rate (to avoid getting too small)\n",
        "    verbose=1             # Print messages when learning rate is reduced\n",
        ")\n",
        "\n",
        "# Add the callback to your list of callbacks when training the model\n",
        "callbacks = [reduce_lr]\n",
        "\n",
        "# Example of how to use the callback during model training\n",
        "history = model.fit(\n",
        "    train_gen,\n",
        "    epochs=25,  # Increase the number of epochs\n",
        "    validation_data=validation_gen,\n",
        "    callbacks=callbacks  # Include the ReduceLROnPlateau callback\n",
        ")\n"
      ],
      "metadata": {
        "colab": {
          "base_uri": "https://localhost:8080/"
        },
        "id": "wGXdtZqF-1Cs",
        "outputId": "afa82b9e-8da6-41b1-ac60-02d8efae3e4d"
      },
      "execution_count": null,
      "outputs": [
        {
          "output_type": "stream",
          "name": "stdout",
          "text": [
            "Epoch 1/25\n",
            "127/127 [==============================] - 87s 655ms/step - loss: 1.8819 - accuracy: 0.8358 - val_loss: 1.5969 - val_accuracy: 0.8648 - lr: 1.0000e-04\n",
            "Epoch 2/25\n",
            "127/127 [==============================] - 79s 621ms/step - loss: 1.5833 - accuracy: 0.8531 - val_loss: 1.4682 - val_accuracy: 0.8811 - lr: 1.0000e-04\n",
            "Epoch 3/25\n",
            "127/127 [==============================] - 79s 625ms/step - loss: 1.4307 - accuracy: 0.8679 - val_loss: 1.3749 - val_accuracy: 0.8811 - lr: 1.0000e-04\n",
            "Epoch 4/25\n",
            "127/127 [==============================] - 78s 616ms/step - loss: 1.3863 - accuracy: 0.8760 - val_loss: 1.3420 - val_accuracy: 0.8834 - lr: 1.0000e-04\n",
            "Epoch 5/25\n",
            "127/127 [==============================] - 78s 618ms/step - loss: 1.3328 - accuracy: 0.8814 - val_loss: 1.3145 - val_accuracy: 0.8881 - lr: 1.0000e-04\n",
            "Epoch 6/25\n",
            "127/127 [==============================] - 81s 634ms/step - loss: 1.3355 - accuracy: 0.8730 - val_loss: 1.3238 - val_accuracy: 0.8834 - lr: 1.0000e-04\n",
            "Epoch 7/25\n",
            "127/127 [==============================] - 79s 622ms/step - loss: 1.3389 - accuracy: 0.8770 - val_loss: 1.3105 - val_accuracy: 0.8998 - lr: 1.0000e-04\n",
            "Epoch 8/25\n",
            "127/127 [==============================] - 78s 615ms/step - loss: 1.3190 - accuracy: 0.8873 - val_loss: 1.3094 - val_accuracy: 0.8834 - lr: 1.0000e-04\n",
            "Epoch 9/25\n",
            "127/127 [==============================] - 77s 610ms/step - loss: 1.2851 - accuracy: 0.8925 - val_loss: 1.3251 - val_accuracy: 0.8765 - lr: 1.0000e-04\n",
            "Epoch 10/25\n",
            "127/127 [==============================] - 80s 624ms/step - loss: 1.3046 - accuracy: 0.8876 - val_loss: 1.3082 - val_accuracy: 0.8928 - lr: 1.0000e-04\n",
            "Epoch 11/25\n",
            "127/127 [==============================] - 78s 610ms/step - loss: 1.3157 - accuracy: 0.8969 - val_loss: 1.3475 - val_accuracy: 0.8904 - lr: 1.0000e-04\n",
            "Epoch 12/25\n",
            "127/127 [==============================] - 79s 620ms/step - loss: 1.3284 - accuracy: 0.8812 - val_loss: 1.3521 - val_accuracy: 0.8928 - lr: 1.0000e-04\n",
            "Epoch 13/25\n",
            "127/127 [==============================] - 77s 610ms/step - loss: 1.3285 - accuracy: 0.8930 - val_loss: 1.3431 - val_accuracy: 0.8951 - lr: 1.0000e-04\n",
            "Epoch 14/25\n",
            "127/127 [==============================] - 80s 628ms/step - loss: 1.3181 - accuracy: 0.8967 - val_loss: 1.3142 - val_accuracy: 0.9184 - lr: 1.0000e-04\n",
            "Epoch 15/25\n",
            "127/127 [==============================] - 78s 609ms/step - loss: 1.2823 - accuracy: 0.9024 - val_loss: 1.2580 - val_accuracy: 0.9091 - lr: 1.0000e-04\n",
            "Epoch 16/25\n",
            "127/127 [==============================] - 78s 618ms/step - loss: 1.2769 - accuracy: 0.9046 - val_loss: 1.3171 - val_accuracy: 0.9091 - lr: 1.0000e-04\n",
            "Epoch 17/25\n",
            "127/127 [==============================] - 78s 612ms/step - loss: 1.2804 - accuracy: 0.9063 - val_loss: 1.3043 - val_accuracy: 0.8951 - lr: 1.0000e-04\n",
            "Epoch 18/25\n",
            "127/127 [==============================] - 78s 617ms/step - loss: 1.2782 - accuracy: 0.9053 - val_loss: 1.3177 - val_accuracy: 0.9114 - lr: 1.0000e-04\n",
            "Epoch 19/25\n",
            "127/127 [==============================] - 79s 619ms/step - loss: 1.2824 - accuracy: 0.9061 - val_loss: 1.2881 - val_accuracy: 0.9301 - lr: 1.0000e-04\n",
            "Epoch 20/25\n",
            "127/127 [==============================] - ETA: 0s - loss: 1.2846 - accuracy: 0.9041\n",
            "Epoch 20: ReduceLROnPlateau reducing learning rate to 1.9999999494757503e-05.\n",
            "127/127 [==============================] - 77s 608ms/step - loss: 1.2846 - accuracy: 0.9041 - val_loss: 1.2994 - val_accuracy: 0.9301 - lr: 1.0000e-04\n",
            "Epoch 21/25\n",
            "127/127 [==============================] - 78s 616ms/step - loss: 1.2255 - accuracy: 0.9209 - val_loss: 1.2121 - val_accuracy: 0.9184 - lr: 2.0000e-05\n",
            "Epoch 22/25\n",
            "127/127 [==============================] - 78s 612ms/step - loss: 1.1602 - accuracy: 0.9312 - val_loss: 1.1481 - val_accuracy: 0.9394 - lr: 2.0000e-05\n",
            "Epoch 23/25\n",
            "127/127 [==============================] - 78s 614ms/step - loss: 1.0824 - accuracy: 0.9374 - val_loss: 1.1231 - val_accuracy: 0.9207 - lr: 2.0000e-05\n",
            "Epoch 24/25\n",
            "127/127 [==============================] - 78s 612ms/step - loss: 1.0406 - accuracy: 0.9376 - val_loss: 1.0265 - val_accuracy: 0.9394 - lr: 2.0000e-05\n",
            "Epoch 25/25\n",
            "127/127 [==============================] - 78s 612ms/step - loss: 0.9735 - accuracy: 0.9490 - val_loss: 0.9982 - val_accuracy: 0.9441 - lr: 2.0000e-05\n"
          ]
        }
      ]
    },
    {
      "cell_type": "code",
      "source": [
        "# Plot training history\n",
        "plt.figure(figsize=(12, 4))\n",
        "plt.subplot(1, 2, 1)\n",
        "plt.plot(history.history['loss'], label='Training Loss')\n",
        "plt.plot(history.history['val_loss'], label='Validation Loss')\n",
        "plt.xlabel('Epochs')\n",
        "plt.ylabel('Loss')\n",
        "plt.legend()\n",
        "plt.subplot(1, 2, 2)\n",
        "plt.plot(history.history['accuracy'], label='Training Accuracy')\n",
        "plt.plot(history.history['val_accuracy'], label='Validation Accuracy')\n",
        "plt.xlabel('Epochs')\n",
        "plt.ylabel('Accuracy')\n",
        "plt.legend()\n",
        "plt.show()"
      ],
      "metadata": {
        "id": "ZfbNs22YvmEt",
        "colab": {
          "base_uri": "https://localhost:8080/",
          "height": 334
        },
        "outputId": "322bc0de-60a6-4a66-ee9e-75d8e0b2a190"
      },
      "execution_count": null,
      "outputs": [
        {
          "output_type": "display_data",
          "data": {
            "text/plain": [
              "<Figure size 1200x400 with 2 Axes>"
            ],
            "image/png": "[encoded data removed]"
          },
          "metadata": {}
        }
      ]
    },
    {
      "cell_type": "code",
      "source": [
        "# Evaluate the model on the validation set\n",
        "test_loss, test_accuracy = model.evaluate(validation_gen)  # Replace with your test data generator\n",
        "print(f\"Test Loss: {test_loss:.4f}\")\n",
        "print(f\"Test Accuracy: {test_accuracy:.2f}\")"
      ],
      "metadata": {
        "id": "2fJUHDLevpE_",
        "colab": {
          "base_uri": "https://localhost:8080/"
        },
        "outputId": "ca859983-fe0e-4583-8745-ee6f1edfebfa"
      },
      "execution_count": null,
      "outputs": [
        {
          "output_type": "stream",
          "name": "stdout",
          "text": [
            "14/14 [==============================] - 7s 470ms/step - loss: 0.9947 - accuracy: 0.9301\n",
            "Test Loss: 0.9947\n",
            "Test Accuracy: 0.93\n"
          ]
        }
      ]
    },
    {
      "cell_type": "code",
      "source": [
        "import os\n",
        "\n",
        "# Define the path to your desired location in Google Drive\n",
        "save_path = '/content/drive/My Drive/models/model.h5'\n",
        "model.save(save_path)"
      ],
      "metadata": {
        "id": "y6_hz7-N9yjy",
        "colab": {
          "base_uri": "https://localhost:8080/"
        },
        "outputId": "716875c7-24ba-4f67-ea8a-fb8928579507"
      },
      "execution_count": null,
      "outputs": [
        {
          "output_type": "stream",
          "name": "stderr",
          "text": [
            "/usr/local/lib/python3.10/dist-packages/keras/src/engine/training.py:3000: UserWarning: You are saving your model as an HDF5 file via `model.save()`. This file format is considered legacy. We recommend using instead the native Keras format, e.g. `model.save('my_model.keras')`.\n",
            "  saving_api.save_model(\n"
          ]
        }
      ]
    },
    {
      "cell_type": "code",
      "source": [
        "from google.colab import drive\n",
        "drive.mount('/content/drive')"
      ],
      "metadata": {
        "colab": {
          "base_uri": "https://localhost:8080/"
        },
        "id": "tsluO-QaHG5C",
        "outputId": "108f2fb2-0a44-47ca-ba4d-6d3cf8f0bc35"
      },
      "execution_count": null,
      "outputs": [
        {
          "output_type": "stream",
          "name": "stdout",
          "text": [
            "Mounted at /content/drive\n"
          ]
        }
      ]
    },
    {
      "cell_type": "code",
      "source": [],
      "metadata": {
        "id": "S4jmaboV90dv"
      },
      "execution_count": null,
      "outputs": []
    }
  ]
}